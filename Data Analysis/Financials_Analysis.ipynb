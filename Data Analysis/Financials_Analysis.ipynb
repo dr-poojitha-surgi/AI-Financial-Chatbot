{
 "cells": [
  {
   "cell_type": "markdown",
   "id": "35256f3d-8f39-4cbc-81e4-fee2e6d72ee5",
   "metadata": {},
   "source": [
    "# Financial Performance Analysis: \n",
    "## Apple, Microsoft, Tesla (3 - Year Summary: 2024, 2023, 2022)"
   ]
  },
  {
   "cell_type": "markdown",
   "id": "7767dd02-5006-46b9-bab7-fbf2628ff023",
   "metadata": {},
   "source": [
    "## 1. Loading the data"
   ]
  },
  {
   "cell_type": "code",
   "execution_count": 3,
   "id": "2646aec2-b2af-4d5d-a99b-45dcbb769061",
   "metadata": {},
   "outputs": [],
   "source": [
    "# Importing pandas library\n",
    "import pandas as pd"
   ]
  },
  {
   "cell_type": "code",
   "execution_count": 4,
   "id": "30ab215e-e005-4956-b9cf-186924b2bd83",
   "metadata": {},
   "outputs": [],
   "source": [
    "# Loading the csv file\n",
    "df = pd.read_csv('company_financials.csv')"
   ]
  },
  {
   "cell_type": "code",
   "execution_count": 5,
   "id": "b7354b02-ac58-497d-97c9-3c4bf399c67a",
   "metadata": {},
   "outputs": [
    {
     "data": {
      "text/html": [
       "<div>\n",
       "<style scoped>\n",
       "    .dataframe tbody tr th:only-of-type {\n",
       "        vertical-align: middle;\n",
       "    }\n",
       "\n",
       "    .dataframe tbody tr th {\n",
       "        vertical-align: top;\n",
       "    }\n",
       "\n",
       "    .dataframe thead th {\n",
       "        text-align: right;\n",
       "    }\n",
       "</style>\n",
       "<table border=\"1\" class=\"dataframe\">\n",
       "  <thead>\n",
       "    <tr style=\"text-align: right;\">\n",
       "      <th></th>\n",
       "      <th>Company</th>\n",
       "      <th>Fiscal Year</th>\n",
       "      <th>Total Revenue (USD M)</th>\n",
       "      <th>Net Income (USD M)</th>\n",
       "      <th>Total Assets (USD M)</th>\n",
       "      <th>Total Liabilities (USD M)</th>\n",
       "      <th>Cash Flow from Operating Activities (USD M)</th>\n",
       "    </tr>\n",
       "  </thead>\n",
       "  <tbody>\n",
       "    <tr>\n",
       "      <th>0</th>\n",
       "      <td>Microsoft</td>\n",
       "      <td>2024</td>\n",
       "      <td>245122</td>\n",
       "      <td>88136</td>\n",
       "      <td>512163</td>\n",
       "      <td>243686</td>\n",
       "      <td>118548</td>\n",
       "    </tr>\n",
       "    <tr>\n",
       "      <th>1</th>\n",
       "      <td>Microsoft</td>\n",
       "      <td>2023</td>\n",
       "      <td>211915</td>\n",
       "      <td>72361</td>\n",
       "      <td>411976</td>\n",
       "      <td>205753</td>\n",
       "      <td>87582</td>\n",
       "    </tr>\n",
       "    <tr>\n",
       "      <th>2</th>\n",
       "      <td>Microsoft</td>\n",
       "      <td>2022</td>\n",
       "      <td>198270</td>\n",
       "      <td>72738</td>\n",
       "      <td>364840</td>\n",
       "      <td>198298</td>\n",
       "      <td>89035</td>\n",
       "    </tr>\n",
       "    <tr>\n",
       "      <th>3</th>\n",
       "      <td>Tesla</td>\n",
       "      <td>2024</td>\n",
       "      <td>97690</td>\n",
       "      <td>7153</td>\n",
       "      <td>122070</td>\n",
       "      <td>48390</td>\n",
       "      <td>14923</td>\n",
       "    </tr>\n",
       "    <tr>\n",
       "      <th>4</th>\n",
       "      <td>Tesla</td>\n",
       "      <td>2023</td>\n",
       "      <td>96773</td>\n",
       "      <td>14974</td>\n",
       "      <td>106618</td>\n",
       "      <td>43009</td>\n",
       "      <td>13256</td>\n",
       "    </tr>\n",
       "  </tbody>\n",
       "</table>\n",
       "</div>"
      ],
      "text/plain": [
       "     Company  Fiscal Year  Total Revenue (USD M)  Net Income (USD M)  \\\n",
       "0  Microsoft         2024                 245122               88136   \n",
       "1  Microsoft         2023                 211915               72361   \n",
       "2  Microsoft         2022                 198270               72738   \n",
       "3      Tesla         2024                  97690                7153   \n",
       "4      Tesla         2023                  96773               14974   \n",
       "\n",
       "   Total Assets (USD M)  Total Liabilities (USD M)  \\\n",
       "0                512163                     243686   \n",
       "1                411976                     205753   \n",
       "2                364840                     198298   \n",
       "3                122070                      48390   \n",
       "4                106618                      43009   \n",
       "\n",
       "   Cash Flow from Operating Activities (USD M)  \n",
       "0                                       118548  \n",
       "1                                        87582  \n",
       "2                                        89035  \n",
       "3                                        14923  \n",
       "4                                        13256  "
      ]
     },
     "execution_count": 5,
     "metadata": {},
     "output_type": "execute_result"
    }
   ],
   "source": [
    "# Checking the first five rows\n",
    "df.head()"
   ]
  },
  {
   "cell_type": "code",
   "execution_count": 6,
   "id": "e46a642e-5aaf-4eca-9c6b-d979ef7126ae",
   "metadata": {},
   "outputs": [
    {
     "data": {
      "text/plain": [
       "Company                                        object\n",
       "Fiscal Year                                     int64\n",
       "Total Revenue (USD M)                           int64\n",
       "Net Income (USD M)                              int64\n",
       "Total Assets (USD M)                            int64\n",
       "Total Liabilities (USD M)                       int64\n",
       "Cash Flow from Operating Activities (USD M)     int64\n",
       "dtype: object"
      ]
     },
     "execution_count": 6,
     "metadata": {},
     "output_type": "execute_result"
    }
   ],
   "source": [
    "# Checking the datatypes\n",
    "df.dtypes"
   ]
  },
  {
   "cell_type": "markdown",
   "id": "e4a1df85-c2ef-416a-8d27-913a6ae48f68",
   "metadata": {},
   "source": [
    "### Data Transformation"
   ]
  },
  {
   "cell_type": "code",
   "execution_count": 8,
   "id": "0dc271d5-fd47-4784-948b-2f8d7470618b",
   "metadata": {},
   "outputs": [],
   "source": [
    "# Converting the Financial Year column to string datatype\n",
    "df['Fiscal Year'] = df['Fiscal Year'].astype(str)"
   ]
  },
  {
   "cell_type": "code",
   "execution_count": 9,
   "id": "6c27f9cb-c3de-40e4-9e2c-9c0dd977f1cf",
   "metadata": {},
   "outputs": [
    {
     "data": {
      "text/plain": [
       "Company                                        object\n",
       "Fiscal Year                                    object\n",
       "Total Revenue (USD M)                           int64\n",
       "Net Income (USD M)                              int64\n",
       "Total Assets (USD M)                            int64\n",
       "Total Liabilities (USD M)                       int64\n",
       "Cash Flow from Operating Activities (USD M)     int64\n",
       "dtype: object"
      ]
     },
     "execution_count": 9,
     "metadata": {},
     "output_type": "execute_result"
    }
   ],
   "source": [
    "df.dtypes"
   ]
  },
  {
   "cell_type": "markdown",
   "id": "aa24e53d-c15e-40a8-87f9-4baccb3ed92e",
   "metadata": {},
   "source": [
    "## 2. Analysis"
   ]
  },
  {
   "cell_type": "code",
   "execution_count": 11,
   "id": "dc5bfcc7-fd66-46e5-8228-c18de67e09d3",
   "metadata": {},
   "outputs": [],
   "source": [
    "# Adding year-over-year growth columns\n",
    "df['Revenue Growth (%)'] = round(df.groupby('Company')['Total Revenue (USD M)'].pct_change() * 100,1)\n",
    "\n",
    "df['Net Income Growth (%)'] = round(df.groupby('Company')['Net Income (USD M)'].pct_change() * 100,1)"
   ]
  },
  {
   "cell_type": "code",
   "execution_count": 12,
   "id": "36b389db-7354-4515-97d2-58ad5c5440a1",
   "metadata": {},
   "outputs": [
    {
     "data": {
      "text/html": [
       "<div>\n",
       "<style scoped>\n",
       "    .dataframe tbody tr th:only-of-type {\n",
       "        vertical-align: middle;\n",
       "    }\n",
       "\n",
       "    .dataframe tbody tr th {\n",
       "        vertical-align: top;\n",
       "    }\n",
       "\n",
       "    .dataframe thead th {\n",
       "        text-align: right;\n",
       "    }\n",
       "</style>\n",
       "<table border=\"1\" class=\"dataframe\">\n",
       "  <thead>\n",
       "    <tr style=\"text-align: right;\">\n",
       "      <th></th>\n",
       "      <th>Company</th>\n",
       "      <th>Fiscal Year</th>\n",
       "      <th>Total Revenue (USD M)</th>\n",
       "      <th>Net Income (USD M)</th>\n",
       "      <th>Total Assets (USD M)</th>\n",
       "      <th>Total Liabilities (USD M)</th>\n",
       "      <th>Cash Flow from Operating Activities (USD M)</th>\n",
       "      <th>Revenue Growth (%)</th>\n",
       "      <th>Net Income Growth (%)</th>\n",
       "    </tr>\n",
       "  </thead>\n",
       "  <tbody>\n",
       "    <tr>\n",
       "      <th>0</th>\n",
       "      <td>Microsoft</td>\n",
       "      <td>2024</td>\n",
       "      <td>245122</td>\n",
       "      <td>88136</td>\n",
       "      <td>512163</td>\n",
       "      <td>243686</td>\n",
       "      <td>118548</td>\n",
       "      <td>NaN</td>\n",
       "      <td>NaN</td>\n",
       "    </tr>\n",
       "    <tr>\n",
       "      <th>1</th>\n",
       "      <td>Microsoft</td>\n",
       "      <td>2023</td>\n",
       "      <td>211915</td>\n",
       "      <td>72361</td>\n",
       "      <td>411976</td>\n",
       "      <td>205753</td>\n",
       "      <td>87582</td>\n",
       "      <td>-13.5</td>\n",
       "      <td>-17.9</td>\n",
       "    </tr>\n",
       "    <tr>\n",
       "      <th>2</th>\n",
       "      <td>Microsoft</td>\n",
       "      <td>2022</td>\n",
       "      <td>198270</td>\n",
       "      <td>72738</td>\n",
       "      <td>364840</td>\n",
       "      <td>198298</td>\n",
       "      <td>89035</td>\n",
       "      <td>-6.4</td>\n",
       "      <td>0.5</td>\n",
       "    </tr>\n",
       "    <tr>\n",
       "      <th>3</th>\n",
       "      <td>Tesla</td>\n",
       "      <td>2024</td>\n",
       "      <td>97690</td>\n",
       "      <td>7153</td>\n",
       "      <td>122070</td>\n",
       "      <td>48390</td>\n",
       "      <td>14923</td>\n",
       "      <td>NaN</td>\n",
       "      <td>NaN</td>\n",
       "    </tr>\n",
       "    <tr>\n",
       "      <th>4</th>\n",
       "      <td>Tesla</td>\n",
       "      <td>2023</td>\n",
       "      <td>96773</td>\n",
       "      <td>14974</td>\n",
       "      <td>106618</td>\n",
       "      <td>43009</td>\n",
       "      <td>13256</td>\n",
       "      <td>-0.9</td>\n",
       "      <td>109.3</td>\n",
       "    </tr>\n",
       "  </tbody>\n",
       "</table>\n",
       "</div>"
      ],
      "text/plain": [
       "     Company Fiscal Year  Total Revenue (USD M)  Net Income (USD M)  \\\n",
       "0  Microsoft        2024                 245122               88136   \n",
       "1  Microsoft        2023                 211915               72361   \n",
       "2  Microsoft        2022                 198270               72738   \n",
       "3      Tesla        2024                  97690                7153   \n",
       "4      Tesla        2023                  96773               14974   \n",
       "\n",
       "   Total Assets (USD M)  Total Liabilities (USD M)  \\\n",
       "0                512163                     243686   \n",
       "1                411976                     205753   \n",
       "2                364840                     198298   \n",
       "3                122070                      48390   \n",
       "4                106618                      43009   \n",
       "\n",
       "   Cash Flow from Operating Activities (USD M)  Revenue Growth (%)  \\\n",
       "0                                       118548                 NaN   \n",
       "1                                        87582               -13.5   \n",
       "2                                        89035                -6.4   \n",
       "3                                        14923                 NaN   \n",
       "4                                        13256                -0.9   \n",
       "\n",
       "   Net Income Growth (%)  \n",
       "0                    NaN  \n",
       "1                  -17.9  \n",
       "2                    0.5  \n",
       "3                    NaN  \n",
       "4                  109.3  "
      ]
     },
     "execution_count": 12,
     "metadata": {},
     "output_type": "execute_result"
    }
   ],
   "source": [
    "df.head()"
   ]
  },
  {
   "cell_type": "markdown",
   "id": "77975249-5829-4af1-a98b-b14910b9eac4",
   "metadata": {},
   "source": [
    "### Calculate Asset/Liability Ratios\n",
    "Purpose: Assess each company's financial leverage and risk."
   ]
  },
  {
   "cell_type": "code",
   "execution_count": 14,
   "id": "32f9517a-0599-4f61-969b-f8c5e01ffa62",
   "metadata": {},
   "outputs": [],
   "source": [
    "df['Asset_Liability_Ratio'] = round(df['Total Assets (USD M)'] / df['Total Liabilities (USD M)'],1)"
   ]
  },
  {
   "cell_type": "code",
   "execution_count": 15,
   "id": "ff2af6aa-2f79-472c-b80d-1c49e0af4050",
   "metadata": {},
   "outputs": [
    {
     "data": {
      "text/html": [
       "<div>\n",
       "<style scoped>\n",
       "    .dataframe tbody tr th:only-of-type {\n",
       "        vertical-align: middle;\n",
       "    }\n",
       "\n",
       "    .dataframe tbody tr th {\n",
       "        vertical-align: top;\n",
       "    }\n",
       "\n",
       "    .dataframe thead th {\n",
       "        text-align: right;\n",
       "    }\n",
       "</style>\n",
       "<table border=\"1\" class=\"dataframe\">\n",
       "  <thead>\n",
       "    <tr style=\"text-align: right;\">\n",
       "      <th></th>\n",
       "      <th>Company</th>\n",
       "      <th>Fiscal Year</th>\n",
       "      <th>Total Revenue (USD M)</th>\n",
       "      <th>Net Income (USD M)</th>\n",
       "      <th>Total Assets (USD M)</th>\n",
       "      <th>Total Liabilities (USD M)</th>\n",
       "      <th>Cash Flow from Operating Activities (USD M)</th>\n",
       "      <th>Revenue Growth (%)</th>\n",
       "      <th>Net Income Growth (%)</th>\n",
       "      <th>Asset_Liability_Ratio</th>\n",
       "    </tr>\n",
       "  </thead>\n",
       "  <tbody>\n",
       "    <tr>\n",
       "      <th>0</th>\n",
       "      <td>Microsoft</td>\n",
       "      <td>2024</td>\n",
       "      <td>245122</td>\n",
       "      <td>88136</td>\n",
       "      <td>512163</td>\n",
       "      <td>243686</td>\n",
       "      <td>118548</td>\n",
       "      <td>NaN</td>\n",
       "      <td>NaN</td>\n",
       "      <td>2.1</td>\n",
       "    </tr>\n",
       "    <tr>\n",
       "      <th>1</th>\n",
       "      <td>Microsoft</td>\n",
       "      <td>2023</td>\n",
       "      <td>211915</td>\n",
       "      <td>72361</td>\n",
       "      <td>411976</td>\n",
       "      <td>205753</td>\n",
       "      <td>87582</td>\n",
       "      <td>-13.5</td>\n",
       "      <td>-17.9</td>\n",
       "      <td>2.0</td>\n",
       "    </tr>\n",
       "    <tr>\n",
       "      <th>2</th>\n",
       "      <td>Microsoft</td>\n",
       "      <td>2022</td>\n",
       "      <td>198270</td>\n",
       "      <td>72738</td>\n",
       "      <td>364840</td>\n",
       "      <td>198298</td>\n",
       "      <td>89035</td>\n",
       "      <td>-6.4</td>\n",
       "      <td>0.5</td>\n",
       "      <td>1.8</td>\n",
       "    </tr>\n",
       "    <tr>\n",
       "      <th>3</th>\n",
       "      <td>Tesla</td>\n",
       "      <td>2024</td>\n",
       "      <td>97690</td>\n",
       "      <td>7153</td>\n",
       "      <td>122070</td>\n",
       "      <td>48390</td>\n",
       "      <td>14923</td>\n",
       "      <td>NaN</td>\n",
       "      <td>NaN</td>\n",
       "      <td>2.5</td>\n",
       "    </tr>\n",
       "    <tr>\n",
       "      <th>4</th>\n",
       "      <td>Tesla</td>\n",
       "      <td>2023</td>\n",
       "      <td>96773</td>\n",
       "      <td>14974</td>\n",
       "      <td>106618</td>\n",
       "      <td>43009</td>\n",
       "      <td>13256</td>\n",
       "      <td>-0.9</td>\n",
       "      <td>109.3</td>\n",
       "      <td>2.5</td>\n",
       "    </tr>\n",
       "  </tbody>\n",
       "</table>\n",
       "</div>"
      ],
      "text/plain": [
       "     Company Fiscal Year  Total Revenue (USD M)  Net Income (USD M)  \\\n",
       "0  Microsoft        2024                 245122               88136   \n",
       "1  Microsoft        2023                 211915               72361   \n",
       "2  Microsoft        2022                 198270               72738   \n",
       "3      Tesla        2024                  97690                7153   \n",
       "4      Tesla        2023                  96773               14974   \n",
       "\n",
       "   Total Assets (USD M)  Total Liabilities (USD M)  \\\n",
       "0                512163                     243686   \n",
       "1                411976                     205753   \n",
       "2                364840                     198298   \n",
       "3                122070                      48390   \n",
       "4                106618                      43009   \n",
       "\n",
       "   Cash Flow from Operating Activities (USD M)  Revenue Growth (%)  \\\n",
       "0                                       118548                 NaN   \n",
       "1                                        87582               -13.5   \n",
       "2                                        89035                -6.4   \n",
       "3                                        14923                 NaN   \n",
       "4                                        13256                -0.9   \n",
       "\n",
       "   Net Income Growth (%)  Asset_Liability_Ratio  \n",
       "0                    NaN                    2.1  \n",
       "1                  -17.9                    2.0  \n",
       "2                    0.5                    1.8  \n",
       "3                    NaN                    2.5  \n",
       "4                  109.3                    2.5  "
      ]
     },
     "execution_count": 15,
     "metadata": {},
     "output_type": "execute_result"
    }
   ],
   "source": [
    "df.head()"
   ]
  },
  {
   "cell_type": "markdown",
   "id": "c1d83675-461b-4af7-9ad7-ccc2f63eae08",
   "metadata": {},
   "source": [
    "### Compare cash flows year-over-year\n",
    "Purpose: Track operational cash flow growth or volatility."
   ]
  },
  {
   "cell_type": "code",
   "execution_count": 17,
   "id": "91f484d7-7293-411a-9128-bcff3f294ac5",
   "metadata": {},
   "outputs": [],
   "source": [
    "df['CashFlow_YoY_Change(%)'] = round(df.groupby('Company')['Cash Flow from Operating Activities (USD M)'].pct_change() * 100,1)"
   ]
  },
  {
   "cell_type": "code",
   "execution_count": 18,
   "id": "f4d3e21d-bd5f-4c11-a241-a8524abbf045",
   "metadata": {},
   "outputs": [
    {
     "data": {
      "text/html": [
       "<div>\n",
       "<style scoped>\n",
       "    .dataframe tbody tr th:only-of-type {\n",
       "        vertical-align: middle;\n",
       "    }\n",
       "\n",
       "    .dataframe tbody tr th {\n",
       "        vertical-align: top;\n",
       "    }\n",
       "\n",
       "    .dataframe thead th {\n",
       "        text-align: right;\n",
       "    }\n",
       "</style>\n",
       "<table border=\"1\" class=\"dataframe\">\n",
       "  <thead>\n",
       "    <tr style=\"text-align: right;\">\n",
       "      <th></th>\n",
       "      <th>Company</th>\n",
       "      <th>Fiscal Year</th>\n",
       "      <th>Total Revenue (USD M)</th>\n",
       "      <th>Net Income (USD M)</th>\n",
       "      <th>Total Assets (USD M)</th>\n",
       "      <th>Total Liabilities (USD M)</th>\n",
       "      <th>Cash Flow from Operating Activities (USD M)</th>\n",
       "      <th>Revenue Growth (%)</th>\n",
       "      <th>Net Income Growth (%)</th>\n",
       "      <th>Asset_Liability_Ratio</th>\n",
       "      <th>CashFlow_YoY_Change(%)</th>\n",
       "    </tr>\n",
       "  </thead>\n",
       "  <tbody>\n",
       "    <tr>\n",
       "      <th>0</th>\n",
       "      <td>Microsoft</td>\n",
       "      <td>2024</td>\n",
       "      <td>245122</td>\n",
       "      <td>88136</td>\n",
       "      <td>512163</td>\n",
       "      <td>243686</td>\n",
       "      <td>118548</td>\n",
       "      <td>NaN</td>\n",
       "      <td>NaN</td>\n",
       "      <td>2.1</td>\n",
       "      <td>NaN</td>\n",
       "    </tr>\n",
       "    <tr>\n",
       "      <th>1</th>\n",
       "      <td>Microsoft</td>\n",
       "      <td>2023</td>\n",
       "      <td>211915</td>\n",
       "      <td>72361</td>\n",
       "      <td>411976</td>\n",
       "      <td>205753</td>\n",
       "      <td>87582</td>\n",
       "      <td>-13.5</td>\n",
       "      <td>-17.9</td>\n",
       "      <td>2.0</td>\n",
       "      <td>-26.1</td>\n",
       "    </tr>\n",
       "    <tr>\n",
       "      <th>2</th>\n",
       "      <td>Microsoft</td>\n",
       "      <td>2022</td>\n",
       "      <td>198270</td>\n",
       "      <td>72738</td>\n",
       "      <td>364840</td>\n",
       "      <td>198298</td>\n",
       "      <td>89035</td>\n",
       "      <td>-6.4</td>\n",
       "      <td>0.5</td>\n",
       "      <td>1.8</td>\n",
       "      <td>1.7</td>\n",
       "    </tr>\n",
       "    <tr>\n",
       "      <th>3</th>\n",
       "      <td>Tesla</td>\n",
       "      <td>2024</td>\n",
       "      <td>97690</td>\n",
       "      <td>7153</td>\n",
       "      <td>122070</td>\n",
       "      <td>48390</td>\n",
       "      <td>14923</td>\n",
       "      <td>NaN</td>\n",
       "      <td>NaN</td>\n",
       "      <td>2.5</td>\n",
       "      <td>NaN</td>\n",
       "    </tr>\n",
       "    <tr>\n",
       "      <th>4</th>\n",
       "      <td>Tesla</td>\n",
       "      <td>2023</td>\n",
       "      <td>96773</td>\n",
       "      <td>14974</td>\n",
       "      <td>106618</td>\n",
       "      <td>43009</td>\n",
       "      <td>13256</td>\n",
       "      <td>-0.9</td>\n",
       "      <td>109.3</td>\n",
       "      <td>2.5</td>\n",
       "      <td>-11.2</td>\n",
       "    </tr>\n",
       "    <tr>\n",
       "      <th>5</th>\n",
       "      <td>Tesla</td>\n",
       "      <td>2022</td>\n",
       "      <td>81462</td>\n",
       "      <td>12587</td>\n",
       "      <td>82338</td>\n",
       "      <td>36440</td>\n",
       "      <td>14724</td>\n",
       "      <td>-15.8</td>\n",
       "      <td>-15.9</td>\n",
       "      <td>2.3</td>\n",
       "      <td>11.1</td>\n",
       "    </tr>\n",
       "    <tr>\n",
       "      <th>6</th>\n",
       "      <td>Apple</td>\n",
       "      <td>2024</td>\n",
       "      <td>391035</td>\n",
       "      <td>93736</td>\n",
       "      <td>364980</td>\n",
       "      <td>308030</td>\n",
       "      <td>118254</td>\n",
       "      <td>NaN</td>\n",
       "      <td>NaN</td>\n",
       "      <td>1.2</td>\n",
       "      <td>NaN</td>\n",
       "    </tr>\n",
       "    <tr>\n",
       "      <th>7</th>\n",
       "      <td>Apple</td>\n",
       "      <td>2023</td>\n",
       "      <td>383285</td>\n",
       "      <td>96995</td>\n",
       "      <td>352583</td>\n",
       "      <td>290437</td>\n",
       "      <td>110543</td>\n",
       "      <td>-2.0</td>\n",
       "      <td>3.5</td>\n",
       "      <td>1.2</td>\n",
       "      <td>-6.5</td>\n",
       "    </tr>\n",
       "    <tr>\n",
       "      <th>8</th>\n",
       "      <td>Apple</td>\n",
       "      <td>2022</td>\n",
       "      <td>394328</td>\n",
       "      <td>99803</td>\n",
       "      <td>352755</td>\n",
       "      <td>302083</td>\n",
       "      <td>122151</td>\n",
       "      <td>2.9</td>\n",
       "      <td>2.9</td>\n",
       "      <td>1.2</td>\n",
       "      <td>10.5</td>\n",
       "    </tr>\n",
       "  </tbody>\n",
       "</table>\n",
       "</div>"
      ],
      "text/plain": [
       "     Company Fiscal Year  Total Revenue (USD M)  Net Income (USD M)  \\\n",
       "0  Microsoft        2024                 245122               88136   \n",
       "1  Microsoft        2023                 211915               72361   \n",
       "2  Microsoft        2022                 198270               72738   \n",
       "3      Tesla        2024                  97690                7153   \n",
       "4      Tesla        2023                  96773               14974   \n",
       "5      Tesla        2022                  81462               12587   \n",
       "6      Apple        2024                 391035               93736   \n",
       "7      Apple        2023                 383285               96995   \n",
       "8      Apple        2022                 394328               99803   \n",
       "\n",
       "   Total Assets (USD M)  Total Liabilities (USD M)  \\\n",
       "0                512163                     243686   \n",
       "1                411976                     205753   \n",
       "2                364840                     198298   \n",
       "3                122070                      48390   \n",
       "4                106618                      43009   \n",
       "5                 82338                      36440   \n",
       "6                364980                     308030   \n",
       "7                352583                     290437   \n",
       "8                352755                     302083   \n",
       "\n",
       "   Cash Flow from Operating Activities (USD M)  Revenue Growth (%)  \\\n",
       "0                                       118548                 NaN   \n",
       "1                                        87582               -13.5   \n",
       "2                                        89035                -6.4   \n",
       "3                                        14923                 NaN   \n",
       "4                                        13256                -0.9   \n",
       "5                                        14724               -15.8   \n",
       "6                                       118254                 NaN   \n",
       "7                                       110543                -2.0   \n",
       "8                                       122151                 2.9   \n",
       "\n",
       "   Net Income Growth (%)  Asset_Liability_Ratio  CashFlow_YoY_Change(%)  \n",
       "0                    NaN                    2.1                     NaN  \n",
       "1                  -17.9                    2.0                   -26.1  \n",
       "2                    0.5                    1.8                     1.7  \n",
       "3                    NaN                    2.5                     NaN  \n",
       "4                  109.3                    2.5                   -11.2  \n",
       "5                  -15.9                    2.3                    11.1  \n",
       "6                    NaN                    1.2                     NaN  \n",
       "7                    3.5                    1.2                    -6.5  \n",
       "8                    2.9                    1.2                    10.5  "
      ]
     },
     "execution_count": 18,
     "metadata": {},
     "output_type": "execute_result"
    }
   ],
   "source": [
    "df"
   ]
  },
  {
   "cell_type": "code",
   "execution_count": 19,
   "id": "6fb9d1e7-99d1-4207-a6b3-699233548b5d",
   "metadata": {},
   "outputs": [],
   "source": [
    "df.fillna(0, inplace=True)"
   ]
  },
  {
   "cell_type": "code",
   "execution_count": 20,
   "id": "a7aa7e97-af26-4015-bb1f-ea64543268e2",
   "metadata": {},
   "outputs": [
    {
     "data": {
      "text/html": [
       "<div>\n",
       "<style scoped>\n",
       "    .dataframe tbody tr th:only-of-type {\n",
       "        vertical-align: middle;\n",
       "    }\n",
       "\n",
       "    .dataframe tbody tr th {\n",
       "        vertical-align: top;\n",
       "    }\n",
       "\n",
       "    .dataframe thead th {\n",
       "        text-align: right;\n",
       "    }\n",
       "</style>\n",
       "<table border=\"1\" class=\"dataframe\">\n",
       "  <thead>\n",
       "    <tr style=\"text-align: right;\">\n",
       "      <th></th>\n",
       "      <th>Company</th>\n",
       "      <th>Fiscal Year</th>\n",
       "      <th>Total Revenue (USD M)</th>\n",
       "      <th>Net Income (USD M)</th>\n",
       "      <th>Total Assets (USD M)</th>\n",
       "      <th>Total Liabilities (USD M)</th>\n",
       "      <th>Cash Flow from Operating Activities (USD M)</th>\n",
       "      <th>Revenue Growth (%)</th>\n",
       "      <th>Net Income Growth (%)</th>\n",
       "      <th>Asset_Liability_Ratio</th>\n",
       "      <th>CashFlow_YoY_Change(%)</th>\n",
       "    </tr>\n",
       "  </thead>\n",
       "  <tbody>\n",
       "    <tr>\n",
       "      <th>0</th>\n",
       "      <td>Microsoft</td>\n",
       "      <td>2024</td>\n",
       "      <td>245122</td>\n",
       "      <td>88136</td>\n",
       "      <td>512163</td>\n",
       "      <td>243686</td>\n",
       "      <td>118548</td>\n",
       "      <td>0.0</td>\n",
       "      <td>0.0</td>\n",
       "      <td>2.1</td>\n",
       "      <td>0.0</td>\n",
       "    </tr>\n",
       "    <tr>\n",
       "      <th>1</th>\n",
       "      <td>Microsoft</td>\n",
       "      <td>2023</td>\n",
       "      <td>211915</td>\n",
       "      <td>72361</td>\n",
       "      <td>411976</td>\n",
       "      <td>205753</td>\n",
       "      <td>87582</td>\n",
       "      <td>-13.5</td>\n",
       "      <td>-17.9</td>\n",
       "      <td>2.0</td>\n",
       "      <td>-26.1</td>\n",
       "    </tr>\n",
       "    <tr>\n",
       "      <th>2</th>\n",
       "      <td>Microsoft</td>\n",
       "      <td>2022</td>\n",
       "      <td>198270</td>\n",
       "      <td>72738</td>\n",
       "      <td>364840</td>\n",
       "      <td>198298</td>\n",
       "      <td>89035</td>\n",
       "      <td>-6.4</td>\n",
       "      <td>0.5</td>\n",
       "      <td>1.8</td>\n",
       "      <td>1.7</td>\n",
       "    </tr>\n",
       "  </tbody>\n",
       "</table>\n",
       "</div>"
      ],
      "text/plain": [
       "     Company Fiscal Year  Total Revenue (USD M)  Net Income (USD M)  \\\n",
       "0  Microsoft        2024                 245122               88136   \n",
       "1  Microsoft        2023                 211915               72361   \n",
       "2  Microsoft        2022                 198270               72738   \n",
       "\n",
       "   Total Assets (USD M)  Total Liabilities (USD M)  \\\n",
       "0                512163                     243686   \n",
       "1                411976                     205753   \n",
       "2                364840                     198298   \n",
       "\n",
       "   Cash Flow from Operating Activities (USD M)  Revenue Growth (%)  \\\n",
       "0                                       118548                 0.0   \n",
       "1                                        87582               -13.5   \n",
       "2                                        89035                -6.4   \n",
       "\n",
       "   Net Income Growth (%)  Asset_Liability_Ratio  CashFlow_YoY_Change(%)  \n",
       "0                    0.0                    2.1                     0.0  \n",
       "1                  -17.9                    2.0                   -26.1  \n",
       "2                    0.5                    1.8                     1.7  "
      ]
     },
     "execution_count": 20,
     "metadata": {},
     "output_type": "execute_result"
    }
   ],
   "source": [
    "df.head(3)"
   ]
  },
  {
   "cell_type": "code",
   "execution_count": 21,
   "id": "6d246d76-3057-4e0a-be9f-d77bb9055693",
   "metadata": {},
   "outputs": [],
   "source": [
    "df.to_csv('transformed_financial_data.csv', index=False)"
   ]
  },
  {
   "cell_type": "markdown",
   "id": "a55e0871-ad1c-452f-9fe4-76f992cd511b",
   "metadata": {},
   "source": [
    "### Create summary statistics by company\n",
    "Purpose: Quickly compare key metrics for each company."
   ]
  },
  {
   "cell_type": "code",
   "execution_count": 23,
   "id": "37997522-404e-49e5-a50e-71ed07a7fb7e",
   "metadata": {},
   "outputs": [
    {
     "data": {
      "text/html": [
       "<div>\n",
       "<style scoped>\n",
       "    .dataframe tbody tr th:only-of-type {\n",
       "        vertical-align: middle;\n",
       "    }\n",
       "\n",
       "    .dataframe tbody tr th {\n",
       "        vertical-align: top;\n",
       "    }\n",
       "\n",
       "    .dataframe thead th {\n",
       "        text-align: right;\n",
       "    }\n",
       "</style>\n",
       "<table border=\"1\" class=\"dataframe\">\n",
       "  <thead>\n",
       "    <tr style=\"text-align: right;\">\n",
       "      <th></th>\n",
       "      <th>Total Revenue (USD M)</th>\n",
       "      <th>Net Income (USD M)</th>\n",
       "      <th>Total Assets (USD M)</th>\n",
       "      <th>Total Liabilities (USD M)</th>\n",
       "      <th>Cash Flow from Operating Activities (USD M)</th>\n",
       "      <th>Revenue Growth (%)</th>\n",
       "      <th>Net Income Growth (%)</th>\n",
       "      <th>Asset_Liability_Ratio</th>\n",
       "      <th>CashFlow_YoY_Change(%)</th>\n",
       "    </tr>\n",
       "  </thead>\n",
       "  <tbody>\n",
       "    <tr>\n",
       "      <th>count</th>\n",
       "      <td>9.000000</td>\n",
       "      <td>9.000000</td>\n",
       "      <td>9.000000</td>\n",
       "      <td>9.000000</td>\n",
       "      <td>9.000000</td>\n",
       "      <td>9.000000</td>\n",
       "      <td>9.000000</td>\n",
       "      <td>9.000000</td>\n",
       "      <td>9.000000</td>\n",
       "    </tr>\n",
       "    <tr>\n",
       "      <th>mean</th>\n",
       "      <td>233320.000000</td>\n",
       "      <td>62053.666667</td>\n",
       "      <td>296702.555556</td>\n",
       "      <td>186236.222222</td>\n",
       "      <td>76557.333333</td>\n",
       "      <td>-3.966667</td>\n",
       "      <td>9.155556</td>\n",
       "      <td>1.866667</td>\n",
       "      <td>-2.277778</td>\n",
       "    </tr>\n",
       "    <tr>\n",
       "      <th>std</th>\n",
       "      <td>130006.968331</td>\n",
       "      <td>39095.864110</td>\n",
       "      <td>153240.424606</td>\n",
       "      <td>114506.220759</td>\n",
       "      <td>48272.769855</td>\n",
       "      <td>6.561821</td>\n",
       "      <td>38.383268</td>\n",
       "      <td>0.547723</td>\n",
       "      <td>11.393834</td>\n",
       "    </tr>\n",
       "    <tr>\n",
       "      <th>min</th>\n",
       "      <td>81462.000000</td>\n",
       "      <td>7153.000000</td>\n",
       "      <td>82338.000000</td>\n",
       "      <td>36440.000000</td>\n",
       "      <td>13256.000000</td>\n",
       "      <td>-15.800000</td>\n",
       "      <td>-17.900000</td>\n",
       "      <td>1.200000</td>\n",
       "      <td>-26.100000</td>\n",
       "    </tr>\n",
       "    <tr>\n",
       "      <th>25%</th>\n",
       "      <td>97690.000000</td>\n",
       "      <td>14974.000000</td>\n",
       "      <td>122070.000000</td>\n",
       "      <td>48390.000000</td>\n",
       "      <td>14923.000000</td>\n",
       "      <td>-6.400000</td>\n",
       "      <td>0.000000</td>\n",
       "      <td>1.200000</td>\n",
       "      <td>-6.500000</td>\n",
       "    </tr>\n",
       "    <tr>\n",
       "      <th>50%</th>\n",
       "      <td>211915.000000</td>\n",
       "      <td>72738.000000</td>\n",
       "      <td>352755.000000</td>\n",
       "      <td>205753.000000</td>\n",
       "      <td>89035.000000</td>\n",
       "      <td>-0.900000</td>\n",
       "      <td>0.000000</td>\n",
       "      <td>2.000000</td>\n",
       "      <td>0.000000</td>\n",
       "    </tr>\n",
       "    <tr>\n",
       "      <th>75%</th>\n",
       "      <td>383285.000000</td>\n",
       "      <td>93736.000000</td>\n",
       "      <td>364980.000000</td>\n",
       "      <td>290437.000000</td>\n",
       "      <td>118254.000000</td>\n",
       "      <td>0.000000</td>\n",
       "      <td>2.900000</td>\n",
       "      <td>2.300000</td>\n",
       "      <td>1.700000</td>\n",
       "    </tr>\n",
       "    <tr>\n",
       "      <th>max</th>\n",
       "      <td>394328.000000</td>\n",
       "      <td>99803.000000</td>\n",
       "      <td>512163.000000</td>\n",
       "      <td>308030.000000</td>\n",
       "      <td>122151.000000</td>\n",
       "      <td>2.900000</td>\n",
       "      <td>109.300000</td>\n",
       "      <td>2.500000</td>\n",
       "      <td>11.100000</td>\n",
       "    </tr>\n",
       "  </tbody>\n",
       "</table>\n",
       "</div>"
      ],
      "text/plain": [
       "       Total Revenue (USD M)  Net Income (USD M)  Total Assets (USD M)  \\\n",
       "count               9.000000            9.000000              9.000000   \n",
       "mean           233320.000000        62053.666667         296702.555556   \n",
       "std            130006.968331        39095.864110         153240.424606   \n",
       "min             81462.000000         7153.000000          82338.000000   \n",
       "25%             97690.000000        14974.000000         122070.000000   \n",
       "50%            211915.000000        72738.000000         352755.000000   \n",
       "75%            383285.000000        93736.000000         364980.000000   \n",
       "max            394328.000000        99803.000000         512163.000000   \n",
       "\n",
       "       Total Liabilities (USD M)  Cash Flow from Operating Activities (USD M)  \\\n",
       "count                   9.000000                                     9.000000   \n",
       "mean               186236.222222                                 76557.333333   \n",
       "std                114506.220759                                 48272.769855   \n",
       "min                 36440.000000                                 13256.000000   \n",
       "25%                 48390.000000                                 14923.000000   \n",
       "50%                205753.000000                                 89035.000000   \n",
       "75%                290437.000000                                118254.000000   \n",
       "max                308030.000000                                122151.000000   \n",
       "\n",
       "       Revenue Growth (%)  Net Income Growth (%)  Asset_Liability_Ratio  \\\n",
       "count            9.000000               9.000000               9.000000   \n",
       "mean            -3.966667               9.155556               1.866667   \n",
       "std              6.561821              38.383268               0.547723   \n",
       "min            -15.800000             -17.900000               1.200000   \n",
       "25%             -6.400000               0.000000               1.200000   \n",
       "50%             -0.900000               0.000000               2.000000   \n",
       "75%              0.000000               2.900000               2.300000   \n",
       "max              2.900000             109.300000               2.500000   \n",
       "\n",
       "       CashFlow_YoY_Change(%)  \n",
       "count                9.000000  \n",
       "mean                -2.277778  \n",
       "std                 11.393834  \n",
       "min                -26.100000  \n",
       "25%                 -6.500000  \n",
       "50%                  0.000000  \n",
       "75%                  1.700000  \n",
       "max                 11.100000  "
      ]
     },
     "execution_count": 23,
     "metadata": {},
     "output_type": "execute_result"
    }
   ],
   "source": [
    "df.describe()"
   ]
  },
  {
   "cell_type": "code",
   "execution_count": 24,
   "id": "12dd60dc-bafd-4490-9275-42cd6dd213c8",
   "metadata": {},
   "outputs": [
    {
     "data": {
      "text/html": [
       "<div>\n",
       "<style scoped>\n",
       "    .dataframe tbody tr th:only-of-type {\n",
       "        vertical-align: middle;\n",
       "    }\n",
       "\n",
       "    .dataframe tbody tr th {\n",
       "        vertical-align: top;\n",
       "    }\n",
       "\n",
       "    .dataframe thead tr th {\n",
       "        text-align: left;\n",
       "    }\n",
       "\n",
       "    .dataframe thead tr:last-of-type th {\n",
       "        text-align: right;\n",
       "    }\n",
       "</style>\n",
       "<table border=\"1\" class=\"dataframe\">\n",
       "  <thead>\n",
       "    <tr>\n",
       "      <th></th>\n",
       "      <th colspan=\"3\" halign=\"left\">Total Revenue (USD M)</th>\n",
       "      <th colspan=\"3\" halign=\"left\">Net Income (USD M)</th>\n",
       "      <th colspan=\"3\" halign=\"left\">Asset_Liability_Ratio</th>\n",
       "      <th colspan=\"3\" halign=\"left\">Cash Flow from Operating Activities (USD M)</th>\n",
       "    </tr>\n",
       "    <tr>\n",
       "      <th></th>\n",
       "      <th>mean</th>\n",
       "      <th>min</th>\n",
       "      <th>max</th>\n",
       "      <th>mean</th>\n",
       "      <th>min</th>\n",
       "      <th>max</th>\n",
       "      <th>mean</th>\n",
       "      <th>min</th>\n",
       "      <th>max</th>\n",
       "      <th>mean</th>\n",
       "      <th>min</th>\n",
       "      <th>max</th>\n",
       "    </tr>\n",
       "    <tr>\n",
       "      <th>Company</th>\n",
       "      <th></th>\n",
       "      <th></th>\n",
       "      <th></th>\n",
       "      <th></th>\n",
       "      <th></th>\n",
       "      <th></th>\n",
       "      <th></th>\n",
       "      <th></th>\n",
       "      <th></th>\n",
       "      <th></th>\n",
       "      <th></th>\n",
       "      <th></th>\n",
       "    </tr>\n",
       "  </thead>\n",
       "  <tbody>\n",
       "    <tr>\n",
       "      <th>Apple</th>\n",
       "      <td>389549</td>\n",
       "      <td>383285</td>\n",
       "      <td>394328</td>\n",
       "      <td>96845</td>\n",
       "      <td>93736</td>\n",
       "      <td>99803</td>\n",
       "      <td>1</td>\n",
       "      <td>1</td>\n",
       "      <td>1</td>\n",
       "      <td>116983</td>\n",
       "      <td>110543</td>\n",
       "      <td>122151</td>\n",
       "    </tr>\n",
       "    <tr>\n",
       "      <th>Microsoft</th>\n",
       "      <td>218436</td>\n",
       "      <td>198270</td>\n",
       "      <td>245122</td>\n",
       "      <td>77745</td>\n",
       "      <td>72361</td>\n",
       "      <td>88136</td>\n",
       "      <td>2</td>\n",
       "      <td>2</td>\n",
       "      <td>2</td>\n",
       "      <td>98388</td>\n",
       "      <td>87582</td>\n",
       "      <td>118548</td>\n",
       "    </tr>\n",
       "    <tr>\n",
       "      <th>Tesla</th>\n",
       "      <td>91975</td>\n",
       "      <td>81462</td>\n",
       "      <td>97690</td>\n",
       "      <td>11571</td>\n",
       "      <td>7153</td>\n",
       "      <td>14974</td>\n",
       "      <td>2</td>\n",
       "      <td>2</td>\n",
       "      <td>2</td>\n",
       "      <td>14301</td>\n",
       "      <td>13256</td>\n",
       "      <td>14923</td>\n",
       "    </tr>\n",
       "  </tbody>\n",
       "</table>\n",
       "</div>"
      ],
      "text/plain": [
       "          Total Revenue (USD M)                 Net Income (USD M)         \\\n",
       "                           mean     min     max               mean    min   \n",
       "Company                                                                     \n",
       "Apple                    389549  383285  394328              96845  93736   \n",
       "Microsoft                218436  198270  245122              77745  72361   \n",
       "Tesla                     91975   81462   97690              11571   7153   \n",
       "\n",
       "                 Asset_Liability_Ratio          \\\n",
       "             max                  mean min max   \n",
       "Company                                          \n",
       "Apple      99803                     1   1   1   \n",
       "Microsoft  88136                     2   2   2   \n",
       "Tesla      14974                     2   2   2   \n",
       "\n",
       "          Cash Flow from Operating Activities (USD M)                  \n",
       "                                                 mean     min     max  \n",
       "Company                                                                \n",
       "Apple                                          116983  110543  122151  \n",
       "Microsoft                                       98388   87582  118548  \n",
       "Tesla                                           14301   13256   14923  "
      ]
     },
     "metadata": {},
     "output_type": "display_data"
    }
   ],
   "source": [
    "summary = df.groupby('Company').agg({\n",
    "    'Total Revenue (USD M)': ['mean', 'min', 'max'],\n",
    "    'Net Income (USD M)': ['mean', 'min', 'max'],\n",
    "    'Asset_Liability_Ratio': ['mean', 'min', 'max'],\n",
    "    'Cash Flow from Operating Activities (USD M)': ['mean', 'min', 'max']}).round().astype(int)\n",
    "display(summary)"
   ]
  },
  {
   "cell_type": "markdown",
   "id": "78575d36-a594-4931-8875-69fcb6a4e072",
   "metadata": {},
   "source": [
    "## 3. Visual Representations"
   ]
  },
  {
   "cell_type": "code",
   "execution_count": 26,
   "id": "e0a3fe9e-7829-4fda-9be3-841eb5d0716d",
   "metadata": {},
   "outputs": [],
   "source": [
    "# Importing the libraries\n",
    "import matplotlib.pyplot as plt\n",
    "import seaborn as sns"
   ]
  },
  {
   "cell_type": "markdown",
   "id": "3f7494e1-d9ab-4b47-8c4b-0f0c3463c3ce",
   "metadata": {},
   "source": [
    "### Total Revenue Over Time \n",
    "To compare how total revenue has changed for Microsoft, Tesla, and Apple from 2022 to 2024."
   ]
  },
  {
   "cell_type": "code",
   "execution_count": 28,
   "id": "339a5e38-d312-4d62-8a62-4046508e94a9",
   "metadata": {},
   "outputs": [
    {
     "data": {
      "image/png": "[encoded data removed]",
      "text/plain": [
       "<Figure size 1200x600 with 1 Axes>"
      ]
     },
     "metadata": {},
     "output_type": "display_data"
    }
   ],
   "source": [
    "plt.figure(figsize = (12, 6))\n",
    "sns.lineplot(data = df, x = 'Fiscal Year', y = 'Total Revenue (USD M)',\n",
    "             hue = 'Company', marker = 'o')\n",
    "plt.title('TOTAL REVENUE (2022-2024)')\n",
    "plt.ylabel('Revenue (USD M)')\n",
    "plt.grid(True)\n",
    "plt.show()"
   ]
  },
  {
   "cell_type": "markdown",
   "id": "81e8619d-84e4-4183-ada1-33f67c905b6d",
   "metadata": {},
   "source": [
    "The chart shows that Apple maintains the highest revenue, while Microsoft shows steady growth, and Tesla has slower, more modest gains."
   ]
  },
  {
   "cell_type": "markdown",
   "id": "4d69142a-af8e-4f28-817e-8312a9e66645",
   "metadata": {},
   "source": [
    "###  Net Income Over Time\n",
    "To visualize trends in net income across the three companies over the last three fiscal years."
   ]
  },
  {
   "cell_type": "code",
   "execution_count": 31,
   "id": "3417e774-5039-4a0c-98b7-6b0055e43b5b",
   "metadata": {},
   "outputs": [
    {
     "data": {
      "image/png": "[encoded data removed]",
      "text/plain": [
       "<Figure size 1200x600 with 1 Axes>"
      ]
     },
     "metadata": {},
     "output_type": "display_data"
    }
   ],
   "source": [
    "plt.figure(figsize=(12,6))\n",
    "sns.lineplot(data=df, x='Fiscal Year', y='Net Income (USD M)', \n",
    "             hue = 'Company', marker='o')\n",
    "plt.title('NET INCOME (2022-2024)')\n",
    "plt.grid(True)\n",
    "plt.show()"
   ]
  },
  {
   "cell_type": "markdown",
   "id": "6d4838eb-dc9a-4be8-a738-6c3c4b19b189",
   "metadata": {},
   "source": [
    "Microsoft and Apple remain consistently profitable, while Tesla shows more fluctuation, with a noticeable spike in 2023."
   ]
  },
  {
   "cell_type": "markdown",
   "id": "925b9b8c-9b61-410d-ae1e-4f6e226aa3fa",
   "metadata": {},
   "source": [
    "### Asset-to-Liability Ratio\n",
    "To compare the financial stability of companies by examining how well their assets cover their liabilities."
   ]
  },
  {
   "cell_type": "code",
   "execution_count": 34,
   "id": "22cb9d56-4f54-44b3-b876-cea05ae21e97",
   "metadata": {},
   "outputs": [
    {
     "data": {
      "image/png": "[encoded data removed]",
      "text/plain": [
       "<Figure size 1000x500 with 1 Axes>"
      ]
     },
     "metadata": {},
     "output_type": "display_data"
    }
   ],
   "source": [
    "plt.figure(figsize = (10,5))\n",
    "sns.barplot(data=df, x='Company', y='Asset_Liability_Ratio', hue='Fiscal Year')\n",
    "plt.title('ASSET TO LIABILITY RATIO BY COMPANY & YEAR')\n",
    "plt.ylabel('Asset/Liability Ratio')\n",
    "plt.grid(axis='y')\n",
    "plt.show()"
   ]
  },
  {
   "cell_type": "markdown",
   "id": "367c51e8-1601-4e2a-a8da-d728d6b8d6b8",
   "metadata": {},
   "source": [
    "Tesla has the strongest asset coverage, followed by Microsoft, while Apple has the lowest ratio, indicating higher relative debt."
   ]
  },
  {
   "cell_type": "markdown",
   "id": "a02112ff-c9f3-4c28-9cc9-607d21857605",
   "metadata": {},
   "source": [
    "### Revenue Growth Rate\n",
    "To measure and compare how fast each company's revenue is increasing or decreasing."
   ]
  },
  {
   "cell_type": "code",
   "execution_count": 37,
   "id": "ff001a83-5d4e-4c55-8907-7b542f9f6f3d",
   "metadata": {},
   "outputs": [
    {
     "data": {
      "image/png": "[encoded data removed]",
      "text/plain": [
       "<Figure size 1200x500 with 1 Axes>"
      ]
     },
     "metadata": {},
     "output_type": "display_data"
    }
   ],
   "source": [
    "plt.figure(figsize=(12,5))\n",
    "sns.barplot(data = df, x='Company', y = 'Revenue Growth (%)',\n",
    "            hue = 'Fiscal Year')\n",
    "plt.title('REVENUE GROWTH RATE BY COMPANY')\n",
    "plt.axhline(0,color='black', linestyle='--')\n",
    "plt.show()"
   ]
  },
  {
   "cell_type": "markdown",
   "id": "82c7acfa-b400-4578-8a82-84a2fc11811b",
   "metadata": {},
   "source": [
    "Tesla and Microsoft experienced notable slowdowns in growth, while Apple remained relatively stable with minor fluctuations."
   ]
  },
  {
   "cell_type": "markdown",
   "id": "b09caa6f-1eae-4980-b9a5-3c605b12e469",
   "metadata": {},
   "source": [
    "### Net Income Growth Rate\n",
    " To track how profit margins have changed year-over-year for each company."
   ]
  },
  {
   "cell_type": "code",
   "execution_count": 40,
   "id": "b0528018-97f8-4985-88bc-ee7ef2d533ea",
   "metadata": {},
   "outputs": [
    {
     "data": {
      "image/png": "[encoded data removed]",
      "text/plain": [
       "<Figure size 1200x500 with 1 Axes>"
      ]
     },
     "metadata": {},
     "output_type": "display_data"
    }
   ],
   "source": [
    "plt.figure(figsize=(12,5))\n",
    "sns.barplot(data = df, x='Company', y = 'Net Income Growth (%)',\n",
    "            hue = 'Fiscal Year')\n",
    "plt.title('NET INCOME GROWTH BY COMPANY')\n",
    "plt.axhline(0,color='black', linestyle='--')\n",
    "plt.show()"
   ]
  },
  {
   "cell_type": "markdown",
   "id": "4b8ff829-1a74-43f0-af7e-6e8a56ce0f28",
   "metadata": {},
   "source": [
    "Tesla had a huge profit jump in 2023, while Microsoft saw a dip that year, and Apple remained steady with slight positive growth. "
   ]
  },
  {
   "cell_type": "markdown",
   "id": "87056ff6-2c33-4722-8c72-4f576435142f",
   "metadata": {},
   "source": [
    "### Operating Cash Flow\n",
    "To see how much cash each company generates from its core operations over time."
   ]
  },
  {
   "cell_type": "code",
   "execution_count": 43,
   "id": "cbfa20f8-94a0-4c54-aafd-673d3e70340b",
   "metadata": {},
   "outputs": [
    {
     "data": {
      "image/png": "[encoded data removed]",
      "text/plain": [
       "<Figure size 1200x600 with 1 Axes>"
      ]
     },
     "metadata": {},
     "output_type": "display_data"
    }
   ],
   "source": [
    "plt.figure(figsize=(12,6))\n",
    "sns.lineplot(data=df, x='Fiscal Year', y = 'Cash Flow from Operating Activities (USD M)', \n",
    "             hue = 'Company', marker='o')\n",
    "plt.title('OPERATING CASH FLOW (2022-2024)')\n",
    "plt.ylabel('Operating Cash Flow (USD M)')\n",
    "plt.grid(True)\n",
    "plt.show()"
   ]
  },
  {
   "cell_type": "markdown",
   "id": "a643a198-3ec2-4bc8-ac0f-9dee526cbedb",
   "metadata": {},
   "source": [
    "Apple leads in operational cash flow, with Microsoft close behind, while Tesla's cash flow is much lower and more inconsistent."
   ]
  },
  {
   "cell_type": "markdown",
   "id": "66e6917a-292d-499f-8ed9-14cb727891dd",
   "metadata": {},
   "source": [
    "## Analysis and Insights\n",
    "### 1. Microsoft\n",
    "* `Revenue steadily increased form $198B (2022) to $245B (2024), with a dip in growth in 2023 (-6.4%) and a stronger recovery by 2024.`\n",
    "* Net income decreased in 2023 (-17.9%), despite stable revenue, but showed a rebound in 2024 ($88B), indicating better cost management or product margins.\n",
    "* Assets and liabilities both grew significantly, but Microsoft maintained a strong Asset-to-Liability Ratio (2.0+), reflecting financial stability.\n",
    "* Operating cash flow dropped sharply in 2023 (-26.1%), possibly due to increased investment or operational expenses, tehn recovered strongly in 2024.\n",
    "\n",
    "**Key Insight:** Despite a temporary slowdown in 2023, Microsoft showed strong recovery in 2024 with improved income and cash flow. The company maintains robust asset coverage for its liabilities, supporting long-term stability."
   ]
  },
  {
   "cell_type": "markdown",
   "id": "cc22577e-e2d6-4d6c-8009-86e8f08df0d1",
   "metadata": {},
   "source": [
    "### 2. Tesla\n",
    "* `Revenue grew from $81B (2022) to ~$97B (2024), though growth slowed significantly after 2022 (-15.8% in 2022, -0.9% in 2023).`\n",
    "* Net income saw a massive spike in 2023 (+109.3%) despite flat revenue, suggesting significant cost optimization or extraordinary gains.\n",
    "* Assets and liabilities continued to increase steadily, and Tesla maintains the highest Asset-to-Liability Ratio (~2.5) among the three companies.\n",
    "* Cash flow from operations fluctuated, with a decline in 2023 (-11.2%) after growth in 2022 (+11.1%), suggesting volatility in operational cash generation.\n",
    "\n",
    "**Key Insight:** Tesla shows high financial leverage and strong asset backing, but volatile profit and cash flow patterns raise questions about sustainability. 2023 was a standout year for net income, possibly from one-time efficiency gains."
   ]
  },
  {
   "cell_type": "markdown",
   "id": "eb2dc949-4ac4-4ff1-a6bc-3183a2e15a2e",
   "metadata": {},
   "source": [
    "## 3. Apple\n",
    "* `Revenue remained high but showed a slight decline from $394B (2022) to $391B (2024), with a -2% drop in 2023 and mild recovery in 2024.`\n",
    "* Net income followed a similar trend, peaking in 2022 and slightly decreasing afterward. However, the changes were marginal, indicating stable profitability.\n",
    "* Assets and liabilities have grown in parallel, but Apple has the lowest Asset-to-Liability Ratio (1.2), meaning a relatively higher leverage position.\n",
    "* Operating cash flow declined in 2023 (-6.5%) after a positive year in 2022 (+10.5%), before slightly improving in 2024.\n",
    "\n",
    "**Key Insight:** Apple remains highly profitable and consistent, though its leverage is higher compared to peers. Despite slight revenue and cash flow declines, it maintains strong operational efficiency."
   ]
  },
  {
   "cell_type": "markdown",
   "id": "28473097-c5d3-49e4-add7-06f321886d2b",
   "metadata": {},
   "source": [
    "##  Cross-Company Observations (2022–2024)\n",
    "* Microsoft has strong and steady cash flow and a solid financial position, meaning it earns well and manages its assets and debts carefully.\n",
    "* Tesla shows quick growth and big profit jumps at times, but its financial results go up and down a lot, making it less predictable.\n",
    "* Apple continues to make high revenue consistently, but it takes on more debt compared to the value of its assets."
   ]
  }
 ],
 "metadata": {
  "kernelspec": {
   "display_name": "Python 3 (ipykernel)",
   "language": "python",
   "name": "python3"
  },
  "language_info": {
   "codemirror_mode": {
    "name": "ipython",
    "version": 3
   },
   "file_extension": ".py",
   "mimetype": "text/x-python",
   "name": "python",
   "nbconvert_exporter": "python",
   "pygments_lexer": "ipython3",
   "version": "3.12.4"
  }
 },
 "nbformat": 4,
 "nbformat_minor": 5
}
