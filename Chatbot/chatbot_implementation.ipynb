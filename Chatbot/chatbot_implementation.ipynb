{
 "cells": [
  {
   "cell_type": "markdown",
   "id": "82527ee1-5e6d-4491-9753-bf557cdb4c99",
   "metadata": {},
   "source": [
    "# Simple Chatbot Implementation"
   ]
  },
  {
   "cell_type": "code",
   "execution_count": 43,
   "id": "1fd0cdd0-8341-489f-99b6-1d7acc273630",
   "metadata": {},
   "outputs": [
    {
     "name": "stdout",
     "output_type": "stream",
     "text": [
      "Welcome to the Financial Chatbot. Ask about revenue, net income, cash flow, and balance ratios.\n",
      "e.g., What is the total revenue for Apple?\n",
      "Type 'exit' to quit.\n"
     ]
    },
    {
     "name": "stdin",
     "output_type": "stream",
     "text": [
      "You:  operating cash flow apple 2022\n"
     ]
    },
    {
     "name": "stdout",
     "output_type": "stream",
     "text": [
      "Bot: Apple's operating cash flow in 2022 was $122,151 million.\n"
     ]
    },
    {
     "name": "stdin",
     "output_type": "stream",
     "text": [
      "You:  exit\n"
     ]
    },
    {
     "name": "stdout",
     "output_type": "stream",
     "text": [
      "Bot: Goodbye!\n"
     ]
    }
   ],
   "source": [
    "import pandas as pd\n",
    "\n",
    "# Load the financial dataset\n",
    "df = pd.read_csv(\"transformed_financial_data.csv\")\n",
    "\n",
    "# Sort by year just in case\n",
    "df = df.sort_values(by=['Company', 'Fiscal Year'])\n",
    "\n",
    "\n",
    "def simple_chatbot(user_query):\n",
    "    # Normalize for case-insensitive handling\n",
    "    query = user_query.lower()\n",
    "    company = extract_company(query)\n",
    "    year = extract_year(query)\n",
    "\n",
    "    if \"total revenue\" in query:\n",
    "        if company:\n",
    "            if year:\n",
    "                revenue = df[(df['Company'] == company) & (df['Fiscal Year'] == year)]['Total Revenue (USD M)'].values[0]\n",
    "                return f\"{company}'s total revenue in {year} was ${revenue:,.0f} million.\"\n",
    "            else:\n",
    "                latest_year = df[df['Company'] == company]['Fiscal Year'].max()\n",
    "                revenue = df[(df['Company'] == company) & (df['Fiscal Year'] == latest_year)]['Total Revenue (USD M)'].values[0]\n",
    "                return f\"{company}'s total revenue in {latest_year} (latest year) was ${revenue:,.0f} million.\"\n",
    "        else:\n",
    "            return \"Please specify the company name.\"\n",
    "\n",
    "    elif \"net income\" in query and \"change\" in query:\n",
    "        if company:\n",
    "            company_df = df[df['Company'] == company].sort_values(by='Fiscal Year')\n",
    "            ni_change = company_df['Net Income Growth (%)'].dropna().iloc[-1] * 100\n",
    "            prev_year = company_df['Fiscal Year'].iloc[-2]\n",
    "            latest_year = company_df['Fiscal Year'].iloc[-1]\n",
    "            return f\"{company}'s net income changed by {ni_change:.2f}% from {prev_year} to {latest_year}.\"\n",
    "        else:\n",
    "            return \"Please specify the company name.\"\n",
    "    \n",
    "    elif \"asset to liability ratio\" in query or \"asset liability ratio\" in query:\n",
    "        if company:\n",
    "            if year:\n",
    "                row = df[(df['Company'] == company) & (df['Fiscal Year'] == int(year))]\n",
    "                ratio = row['Asset_Liability_Ratio'].values[0]\n",
    "                return f\"{company}'s asset to liability ratio was {ratio:.2f} in {year}.\"\n",
    "            else:\n",
    "                company_data = df[df['Company'] == company]\n",
    "                latest_row = company_data.sort_values('Fiscal Year', ascending=False).iloc[0]\n",
    "                ratio = latest_row['Asset_Liability_Ratio']\n",
    "                latest_year = latest_row['Fiscal Year']\n",
    "                return f\"{company}'s asset to liability ratio was {ratio:.2f} in {latest_year} (latest year).\"\n",
    "        else:\n",
    "            return \"Please specify the company name.\"\n",
    "\n",
    "\n",
    "    elif \"operating cash flow\" in query or \"cash flow from operating activities\" in query:\n",
    "        if company:\n",
    "            if year:\n",
    "                row = df[(df['Company'] == company) & (df['Fiscal Year'] == int(year))]\n",
    "                cf = row['Cash Flow from Operating Activities (USD M)'].values[0]\n",
    "                return f\"{company}'s operating cash flow in {year} was ${cf:,.0f} million.\"\n",
    "            else:\n",
    "                latest_year = df[df['Company'] == company]['Fiscal Year'].max()\n",
    "                cf = df[(df['Company'] == company) & (df['Fiscal Year'] == latest_year)]['Cash Flow from Operating Activities (USD M)'].values[0]\n",
    "                return f\"{company}'s operating cash flow in {latest_year} (latest year) was ${cf:,.0f} million.\"\n",
    "        else:\n",
    "            return \"Please specify the company name.\"\n",
    "    \n",
    "    elif \"highest asset to liability\" in query:\n",
    "        latest_df = df[df['Fiscal Year'] == df['Fiscal Year'].max()]\n",
    "        latest_df = latest_df.copy()\n",
    "        latest_df['Ratio'] = latest_df['Total Assets (USD M)'] / latest_df['Total Liabilities (USD M)']\n",
    "        top_company = latest_df.loc[latest_df['Ratio'].idxmax()]\n",
    "        return f\"{top_company['Company']} has the highest asset to liability ratio of {top_company['Ratio']:.2f} in {int(top_company['Fiscal Year'])}.\"\n",
    "\n",
    "    else:\n",
    "        return \"Sorry, I can only answer questions like total revenue, net income change, operating cash flow, or asset/liability ratios.\"\n",
    "\n",
    "\n",
    "# Helper Functions to Extract Company Name and Year\n",
    "def extract_company(query):\n",
    "    if \"apple\" in query:\n",
    "        return \"Apple\"\n",
    "    elif \"microsoft\" in query:\n",
    "        return \"Microsoft\"\n",
    "    elif \"tesla\" in query:\n",
    "        return \"Tesla\"\n",
    "    return None\n",
    "\n",
    "def extract_year(query):\n",
    "    if '2024' in query:\n",
    "        return 2024\n",
    "    elif '2023' in query:\n",
    "        return 2023\n",
    "    elif '2022' in query:\n",
    "        return 2022\n",
    "    return None\n",
    "\n",
    "\n",
    "# CLI Interaction\n",
    "if __name__ == \"__main__\":\n",
    "    print(\"Welcome to the Financial Chatbot. Ask about revenue, net income, cash flow, and balance ratios.\")\n",
    "    print(\"e.g., What is the total revenue for Apple?\")\n",
    "    print(\"Type 'exit' to quit.\")\n",
    "\n",
    "    while True:\n",
    "        user_input = input(\"You: \")\n",
    "        if user_input.lower() == 'exit':\n",
    "            print(\"Bot: Goodbye!\")\n",
    "            break\n",
    "        response = simple_chatbot(user_input)\n",
    "        print(f\"Bot: {response}\")\n"
   ]
  }
 ],
 "metadata": {
  "kernelspec": {
   "display_name": "Python 3 (ipykernel)",
   "language": "python",
   "name": "python3"
  },
  "language_info": {
   "codemirror_mode": {
    "name": "ipython",
    "version": 3
   },
   "file_extension": ".py",
   "mimetype": "text/x-python",
   "name": "python",
   "nbconvert_exporter": "python",
   "pygments_lexer": "ipython3",
   "version": "3.12.4"
  }
 },
 "nbformat": 4,
 "nbformat_minor": 5
}
